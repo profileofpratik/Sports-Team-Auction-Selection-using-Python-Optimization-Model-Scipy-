{
  "nbformat": 4,
  "nbformat_minor": 0,
  "metadata": {
    "colab": {
      "provenance": [],
      "toc_visible": true
    },
    "kernelspec": {
      "name": "python3",
      "display_name": "Python 3"
    },
    "language_info": {
      "name": "python"
    }
  },
  "cells": [
    {
      "cell_type": "markdown",
      "source": [
        "**Group D- IPL Auction Optimizer**\n",
        "\n",
        "\n",
        "Group Members\n",
        "\n",
        "*   Pratik More\n",
        "*   Rajat Kadam\n",
        "*   Samarth Sharma\n",
        "*   Satakshi Deshmukh\n",
        "*   Seniyal Jasani\n",
        "*   Shivom Moyade\n",
        "\n",
        "\n",
        "\n"
      ],
      "metadata": {
        "id": "kn9HBWRrw7IY"
      }
    },
    {
      "cell_type": "markdown",
      "source": [
        "**Business Plan**"
      ],
      "metadata": {
        "id": "LqmEi8shjKjV"
      }
    },
    {
      "cell_type": "markdown",
      "source": [
        "# Executive Summary\n",
        "\n",
        "Our business is set to revolutionize the Daily Fantasy Sports (DFS) market for the Indian Premier League (IPL) by introducing a cutting-edge optimizer that leverages live data to generate optimal team combinations. Utilizing advanced algorithms that integrate game theory and real-time statistical analysis, our service will provide users with dynamically optimized lineups. These lineups are designed to maximize potential scores and improve the chances of winning on various fantasy sports platforms. Our user-friendly interface will ensure that even novice DFS players can compete effectively, positioning our tool as a go-to resource for both casual enthusiasts and serious competitors in the DFS space."
      ],
      "metadata": {
        "id": "_FoH2XbVwgE7"
      }
    },
    {
      "cell_type": "markdown",
      "source": [
        "# Vision and Mission\n",
        "\n",
        "### Vision\n",
        "To become the leading provider of data-driven fantasy sports analytics and optimization tools globally, empowering users with unparalleled insights and strategies to dominate in IPL auctions across various platforms and sports leagues.\n",
        "\n",
        "### Mission\n",
        "Our mission is to harness the power of real-time data, advanced analytics, and innovative algorithms to deliver optimal team combinations that maximize the chances of winning for fantasy sports enthusiasts. We strive to democratize access to professional-level analysis and tools, making them available to users of all skill levels, thereby transforming how players engage with fantasy sports and enhancing their overall experience and success.\n",
        "\n"
      ],
      "metadata": {
        "id": "SFHo07XHwlCw"
      }
    },
    {
      "cell_type": "markdown",
      "source": [
        "# Products and Services\n",
        "\n",
        "### Products\n",
        "1. DFS Optimizer Software: A subscription-based software tool that provides daily optimized IPL team combinations based on real-time data and advanced analytics.\n",
        "\n",
        "2. Mobile App: An easy-to-use mobile application that allows users to access optimized lineups on the go, manage their teams, and receive push notifications about player updates and other crucial match information.\n",
        "\n",
        "### Services\n",
        "1. Customizable Lineups: Users can customize their lineups based on various parameters such as budget constraints, player preferences, and risk tolerance.\n",
        "2. Statistical Analysis and Reports: Provide detailed statistical breakdowns and performance analytics for players and teams, helping users make informed decisions.\n",
        "3. Webinars and Training: Offer webinars and training sessions on how to use the optimizer effectively, as well as strategies for DFS success.\n",
        "4. Customer Support: Dedicated support for troubleshooting, guidance on using the optimizer, and tips to maximize its effectiveness.\n",
        "5. Community Platform: A forum or community platform where users can discuss strategies, share insights, and collaborate on DFS tactics."
      ],
      "metadata": {
        "id": "EDuB4ByDwnnj"
      }
    },
    {
      "cell_type": "markdown",
      "source": [
        "# Market Assessment\n",
        "\n",
        "1. Expanding User Base\n",
        "Fantasy sports platforms in India boast a rapidly growing user base, with millions of active participants. For instance, Dream11 had approximately 200 million active users as of 2020, with a growth rate of 20% annually (AWS case study). In the 2023 IPL season, the active participation of 61 million users in fantasy gaming was reported by Redseer Strategy Consultants. The Indian Premier League (IPL) 2024 registered a record viewership for the first 51 matches at a staggering 510 million viewers, according to broadcaster Disney Star.\n",
        "\n",
        "2. Premium Tool Demand\n",
        "Market trends suggest that a significant portion of fantasy sports players are interested in investing in tools that can enhance their strategic decisions. Our optimizer targets this demographic by offering sophisticated, data-driven solutions to improve team selections.\n",
        "\n",
        "3. User Demographics and Preferences\n",
        "To refine our offerings, we will conduct targeted surveys among fantasy sports users to understand their age, playing frequency, and spending behaviors. This data will help us customize our optimizer to meet the specific needs of casual and competitive players.\n",
        "\n",
        "4. Innovative Edge\n",
        "The use of advanced analytics specifically for cricket lineups is not yet widespread. By introducing a powerful optimizer that incorporates real-time data and machine learning, we position ourselves as pioneers in providing a competitive edge to fantasy sports enthusiasts.\n",
        "\n",
        "5. Strategic Expansion\n",
        "Initially focusing on IPL, our long-term strategy involves expanding our services to other cricket tournaments and possibly other sports, adapting to user feedback and market demands. This scalable approach aims to continually engage users and capture a larger share of the fantasy sports market.\n",
        "\n",
        "\n",
        "\n",
        "\n"
      ],
      "metadata": {
        "id": "neffFjeqwuTE"
      }
    },
    {
      "cell_type": "markdown",
      "source": [
        "# Financial Plan\n",
        "\n",
        "1. Major Costs:\n",
        "\n",
        "* Website hosting:  USD 500 per month\n",
        "* Data acquisition: USD 2000 per month\n",
        "* Marketing and advertising: USD 1000 per month\n",
        "* Development and maintenance: USD 3000 per month\n",
        "\n",
        "\n",
        "2. Major Sources of Revenue:\n",
        "\n",
        "* Subscriptions: USD 100 per month per user\n",
        "\n",
        "\n",
        "3. Bottom Line Estimate:\n",
        "\n",
        "* 100 Users: Estimated profit USD 3500 per month\n",
        "* 1000 Users: Estimated profit USD 105,000 per month\n",
        "\n",
        "\n",
        "\n",
        "\n",
        "\n"
      ],
      "metadata": {
        "id": "H47ZcUziwyqZ"
      }
    },
    {
      "cell_type": "markdown",
      "source": [
        "# Risks\n",
        "\n",
        "\n",
        "## Development\n",
        "We have developed only one of the tools that we envision offering and it works well. However, there is no guarantee that the other tools in our Products and Services section will be industry-leading.\n",
        "\n",
        "## Hacking\n",
        "All code needs to be very secure so that no one can emulate or hack into our systems, compromising user data and our algorithms.\n",
        "\n",
        "## Industry Perception\n",
        "If someone uses the tool and doesn't succeed in winning money, they may tweet or post elsewhere about it and diminish our reputation. Ensuring continuous success for users will be challenging and crucial for maintaining a positive perception.\n",
        "\n",
        "## Regulatory Risks\n",
        "The fantasy sports industry is subject to regulatory scrutiny and changes. Any unfavorable changes in regulations could impact our business model and operations."
      ],
      "metadata": {
        "id": "m33YpX-kw1um"
      }
    },
    {
      "cell_type": "markdown",
      "source": [
        "# Proof of Concept\n",
        "\n",
        "This proof of concept demonstrates the feasibility of our IPL team optimization platform, which leverages real-time data and advanced algorithms to generate the best possible team combinations. The platform ensures that the selected teams meet all specified constraints while maximizing overall performance potential, providing valuable insights for fantasy sports enthusiasts.\n",
        "\n",
        "\n",
        "\n",
        "# **Inputs**\n",
        "\n",
        "1. Player Statistics:\n",
        "\n",
        "Real-time performance metrics such as runs scored, wickets taken, strike rate, economy rate, etc.\n",
        "\n",
        "2. Player Base Prices:\n",
        "\n",
        "Initial auction prices for players, which will be adjusted based on bidding simulations.\n",
        "\n",
        "# **Output**\n",
        "\n",
        "1. Optimized Team Combination:\n",
        "\n",
        "A list of 11 players selected based on the optimization algorithm, meeting all constraints and maximizing the team's overall rating.\n",
        "\n",
        "2. Team Performance Metrics:\n",
        "\n",
        "Projected performance scores for the selected team, including total rating and cost.\n",
        "\n",
        "# **Variables**\n",
        "\n",
        "1. Player Variables:\n",
        "\n",
        "* players: A list of all available players.\n",
        "* indians: A list of all Indian players.\n",
        "* overseas: A list of all overseas players.\n",
        "* batsmen: A list of all players categorized as batsmen.\n",
        "* bowlers: A list of all players categorized as bowlers.\n",
        "* allrounders: A list of all players categorized as all-rounders.\n",
        "* wicketkeepers: A list of all players categorized as wicketkeepers.\n",
        "\n",
        "\n",
        "2. Performance Metrics:\n",
        "\n",
        "* median_ratings: A dictionary mapping each player to their median season rating.\n",
        "* base_prices: A dictionary mapping each player to their base price.\n",
        "* simulated_price: A dictionary mapping each player to their simulated auction price after bidding.\n",
        "\n",
        "\n",
        "# **Constraints**\n",
        "\n",
        "1. Total Players:\n",
        "\n",
        "* The team must consist of exactly 11 players.\n",
        "\n",
        "2. Role Distribution:\n",
        "\n",
        "* Batsmen: Minimum 3, Maximum 5.\n",
        "* Bowlers: Minimum 3, Maximum 5.\n",
        "* All-rounders: Minimum 1, Maximum 3.\n",
        "* Wicketkeepers: Exactly 1.\n",
        "\n",
        "3. Budget Constraint:\n",
        "\n",
        "* The total cost of the selected players must not exceed 30 crores.\n",
        "\n",
        "4. Nationality Constraint:\n",
        "\n",
        "* The team must include exactly 7 Indian players and 4 overseas players.\n",
        "\n",
        "# **Objective Function**\n",
        "\n",
        "1. Maximize Total Team Rating:\n",
        "\n",
        "The objective function is to maximize the sum of the players' median season ratings, ensuring that the selected team has the highest possible performance potential within the given constraints."
      ],
      "metadata": {
        "id": "u7E7DDw7w3hW"
      }
    },
    {
      "cell_type": "code",
      "source": [
        "# model = ConcreteModel() ..."
      ],
      "metadata": {
        "id": "gEOR9S2vNGVa"
      },
      "execution_count": null,
      "outputs": []
    },
    {
      "cell_type": "code",
      "source": [],
      "metadata": {
        "id": "1XiebjVUNP3k"
      },
      "execution_count": null,
      "outputs": []
    }
  ]
}