{
  "nbformat": 4,
  "nbformat_minor": 0,
  "metadata": {
    "colab": {
      "provenance": []
    },
    "kernelspec": {
      "name": "python3",
      "display_name": "Python 3"
    },
    "language_info": {
      "name": "python"
    }
  },
  "cells": [
    {
      "cell_type": "code",
      "execution_count": null,
      "metadata": {
        "id": "x4AdDy5fknam"
      },
      "outputs": [],
      "source": []
    },
    {
      "cell_type": "markdown",
      "source": [
        "# Proof of Concept\n",
        "This proof of concept demonstrates the feasibility of our IPL team optimization platform, which leverages real-time data and advanced algorithms to generate the best possible team combinations. The platform ensures that the selected teams meet all specified constraints while maximizing overall performance potential, providing valuable insights for fantasy sports enthusiasts.\n",
        "\n",
        "# Inputs\n",
        "1. Player Statistics:\n",
        "Real-time performance metrics such as runs scored, wickets taken, strike rate, economy rate, etc.\n",
        "\n",
        "2. Player Base Prices:\n",
        "Initial auction prices for players, which will be adjusted based on bidding simulations.\n",
        "\n",
        "#Output\n",
        "1. Optimized Team Combination:\n",
        "A list of 11 players selected based on the optimization algorithm, meeting all constraints and maximizing the team's overall rating.\n",
        "\n",
        "2. Team Performance Metrics:\n",
        "Projected performance scores for the selected team, including total rating and cost.\n",
        "\n",
        "#Variables\n",
        "1. Player Variables:\n",
        "* players: A list of all available players.\n",
        "* indians: A list of all Indian players.\n",
        "* overseas: A list of all overseas players.\n",
        "* batsmen: A list of all players categorized as batsmen.\n",
        "* bowlers: A list of all players categorized as bowlers.\n",
        "* allrounders: A list of all players categorized as all-rounders.\n",
        "* wicketkeepers: A list of all players categorized as wicketkeepers.\n",
        "2. Performance Metrics:\n",
        "* median_ratings: A dictionary mapping each player to their median season rating.\n",
        "* base_prices: A dictionary mapping each player to their base price.\n",
        "* simulated_price: A dictionary mapping each player to their simulated auction price after bidding.\n",
        "\n",
        "# Constraints\n",
        "1. Total Players:\n",
        "* The team must consist of exactly 11 players.\n",
        "2. Role Distribution:\n",
        "* Batsmen: Minimum 3, Maximum 5.\n",
        "* Bowlers: Minimum 3, Maximum 5.\n",
        "* All-rounders: Minimum 1, Maximum 3.\n",
        "* Wicketkeepers: Exactly 1.\n",
        "3. Budget Constraint:\n",
        "* The total cost of the selected players must not exceed 30 crores.\n",
        "4. Nationality Constraint:\n",
        "* The team must include exactly 7 Indian players and 4 overseas players.\n",
        "\n",
        "# Objective Function\n",
        "* Maximize Total Team Rating:\n",
        "The objective function is to maximize the sum of the players' median season ratings, ensuring that the selected team has the highest possible performance potential within the given constraints."
      ],
      "metadata": {
        "id": "AaPrM-jGkqMu"
      }
    }
  ]
}